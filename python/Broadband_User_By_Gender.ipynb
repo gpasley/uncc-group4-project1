{
 "cells": [
  {
   "cell_type": "code",
   "execution_count": 1,
   "metadata": {},
   "outputs": [],
   "source": [
    "# Dependencies\n",
    "import matplotlib.pyplot as plt\n",
    "import numpy as np\n",
    "import pandas as pd"
   ]
  },
  {
   "cell_type": "code",
   "execution_count": 2,
   "metadata": {},
   "outputs": [
    {
     "data": {
      "text/html": [
       "<div>\n",
       "<style scoped>\n",
       "    .dataframe tbody tr th:only-of-type {\n",
       "        vertical-align: middle;\n",
       "    }\n",
       "\n",
       "    .dataframe tbody tr th {\n",
       "        vertical-align: top;\n",
       "    }\n",
       "\n",
       "    .dataframe thead th {\n",
       "        text-align: right;\n",
       "    }\n",
       "</style>\n",
       "<table border=\"1\" class=\"dataframe\">\n",
       "  <thead>\n",
       "    <tr style=\"text-align: right;\">\n",
       "      <th></th>\n",
       "      <th>% of US Adults who do not use Broadband at home but own Smartphones, by Gender</th>\n",
       "      <th>Unnamed: 1</th>\n",
       "      <th>Unnamed: 2</th>\n",
       "    </tr>\n",
       "  </thead>\n",
       "  <tbody>\n",
       "    <tr>\n",
       "      <th>0</th>\n",
       "      <td>NaN</td>\n",
       "      <td>Men</td>\n",
       "      <td>Women</td>\n",
       "    </tr>\n",
       "    <tr>\n",
       "      <th>1</th>\n",
       "      <td>2013.0</td>\n",
       "      <td>9%</td>\n",
       "      <td>8%</td>\n",
       "    </tr>\n",
       "    <tr>\n",
       "      <th>2</th>\n",
       "      <td>2014.0</td>\n",
       "      <td>11%</td>\n",
       "      <td>10%</td>\n",
       "    </tr>\n",
       "    <tr>\n",
       "      <th>3</th>\n",
       "      <td>2015.0</td>\n",
       "      <td>14%</td>\n",
       "      <td>13%</td>\n",
       "    </tr>\n",
       "    <tr>\n",
       "      <th>4</th>\n",
       "      <td>2016.0</td>\n",
       "      <td>17%</td>\n",
       "      <td>15%</td>\n",
       "    </tr>\n",
       "  </tbody>\n",
       "</table>\n",
       "</div>"
      ],
      "text/plain": [
       "   % of US Adults who do not use Broadband at home but own Smartphones, by Gender  \\\n",
       "0                                                NaN                                \n",
       "1                                             2013.0                                \n",
       "2                                             2014.0                                \n",
       "3                                             2015.0                                \n",
       "4                                             2016.0                                \n",
       "\n",
       "  Unnamed: 1 Unnamed: 2  \n",
       "0        Men      Women  \n",
       "1         9%         8%  \n",
       "2        11%        10%  \n",
       "3        14%        13%  \n",
       "4        17%        15%  "
      ]
     },
     "execution_count": 2,
     "metadata": {},
     "output_type": "execute_result"
    }
   ],
   "source": [
    "#Loading the CSV\n",
    "gender_df = pd.read_csv(\"../Resources/By_Gender.csv.csv\")\n",
    "gender_df.head()"
   ]
  },
  {
   "cell_type": "code",
   "execution_count": 3,
   "metadata": {},
   "outputs": [],
   "source": [
    "#Setting X Axis and Tick Locations\n",
    "x_axis = np.arange(len(gender_df))\n",
    "tick_locations = [value for value in x_axis]"
   ]
  },
  {
   "cell_type": "code",
   "execution_count": 4,
   "metadata": {},
   "outputs": [
    {
     "data": {
      "text/plain": [
       "([<matplotlib.axis.XTick at 0x2aa6f76a668>,\n",
       "  <matplotlib.axis.XTick at 0x2aa6f4fcf60>,\n",
       "  <matplotlib.axis.XTick at 0x2aa6f4fcc50>,\n",
       "  <matplotlib.axis.XTick at 0x2aa6f7aaf60>,\n",
       "  <matplotlib.axis.XTick at 0x2aa6f7ba400>,\n",
       "  <matplotlib.axis.XTick at 0x2aa6f7ba780>,\n",
       "  <matplotlib.axis.XTick at 0x2aa6f7bac88>,\n",
       "  <matplotlib.axis.XTick at 0x2aa6f7c41d0>],\n",
       " <a list of 8 Text xticklabel objects>)"
      ]
     },
     "execution_count": 4,
     "metadata": {},
     "output_type": "execute_result"
    },
    {
     "data": {
      "image/png": "[encoded data removed]",
      "text/plain": [
       "<Figure size 720x432 with 1 Axes>"
      ]
     },
     "metadata": {
      "needs_background": "light"
     },
     "output_type": "display_data"
    }
   ],
   "source": [
    "#Creating a list indicating where to write X Labels\n",
    "#Data by Men\n",
    "\n",
    "plt.figure(figsize=(10,6))\n",
    "plt.bar(x_axis, gender_df[\"% of US Adults who do not use Broadband at home but own Smartphones, by Gender\"], color='r', alpha=1.0, align=\"center\")\n",
    "plt.xticks(tick_locations, gender_df[\"Unnamed: 1\"], rotation=\"vertical\")"
   ]
  },
  {
   "cell_type": "code",
   "execution_count": 5,
   "metadata": {},
   "outputs": [
    {
     "data": {
      "text/plain": [
       "([<matplotlib.axis.XTick at 0x2aa6f96b198>,\n",
       "  <matplotlib.axis.XTick at 0x2aa6f967b00>,\n",
       "  <matplotlib.axis.XTick at 0x2aa6f967828>,\n",
       "  <matplotlib.axis.XTick at 0x2aa6f7d3a20>,\n",
       "  <matplotlib.axis.XTick at 0x2aa6f7d3e80>,\n",
       "  <matplotlib.axis.XTick at 0x2aa6f7de390>,\n",
       "  <matplotlib.axis.XTick at 0x2aa6f7de898>,\n",
       "  <matplotlib.axis.XTick at 0x2aa6f7dee10>],\n",
       " <a list of 8 Text xticklabel objects>)"
      ]
     },
     "execution_count": 5,
     "metadata": {},
     "output_type": "execute_result"
    },
    {
     "data": {
      "image/png": "[encoded data removed]",
      "text/plain": [
       "<Figure size 720x288 with 1 Axes>"
      ]
     },
     "metadata": {
      "needs_background": "light"
     },
     "output_type": "display_data"
    }
   ],
   "source": [
    "#Data by Women\n",
    "plt.figure(figsize=(10,4))\n",
    "plt.bar(x_axis, gender_df[\"% of US Adults who do not use Broadband at home but own Smartphones, by Gender\"], color='r', alpha=1.0, align=\"center\")\n",
    "plt.xticks(tick_locations, gender_df[\"Unnamed: 2\"], rotation=\"vertical\")"
   ]
  },
  {
   "cell_type": "code",
   "execution_count": null,
   "metadata": {},
   "outputs": [],
   "source": []
  }
 ],
 "metadata": {
  "kernelspec": {
   "display_name": "Python 3",
   "language": "python",
   "name": "python3"
  },
  "language_info": {
   "codemirror_mode": {
    "name": "ipython",
    "version": 3
   },
   "file_extension": ".py",
   "mimetype": "text/x-python",
   "name": "python",
   "nbconvert_exporter": "python",
   "pygments_lexer": "ipython3",
   "version": "3.7.3"
  }
 },
 "nbformat": 4,
 "nbformat_minor": 2
}
